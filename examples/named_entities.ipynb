{
 "cells": [
  {
   "cell_type": "markdown",
   "metadata": {},
   "source": [
    "# Add entities recognized by spacy to Macbeth"
   ]
  },
  {
   "cell_type": "code",
   "execution_count": 1,
   "metadata": {},
   "outputs": [],
   "source": [
    "import standoffconverter as so\n",
    "from standoffconverter import Filter"
   ]
  },
  {
   "cell_type": "markdown",
   "metadata": {},
   "source": [
    "## Download Macbeth and parse it with standoffconverter"
   ]
  },
  {
   "cell_type": "code",
   "execution_count": 2,
   "metadata": {},
   "outputs": [],
   "source": [
    "import urllib.request\n",
    "from lxml import etree\n",
    "\n",
    "namespace = \"{http://www.tei-c.org/ns/1.0}\"\n",
    "\n",
    "# download a play by shakespeare from the first folio edition\n",
    "url = \"https://firstfolio.bodleian.ox.ac.uk/download/xml/F-mac.xml\"\n",
    "response = urllib.request.urlopen(url).read()"
   ]
  },
  {
   "cell_type": "code",
   "execution_count": 3,
   "metadata": {},
   "outputs": [],
   "source": [
    "# parse it into our standof object (sobj)\n",
    "tree = etree.fromstring(response)\n",
    "\n",
    "macbeth = so.Standoff.from_lxml_tree(tree)"
   ]
  },
  {
   "cell_type": "markdown",
   "metadata": {},
   "source": [
    "## Filter only spoken text"
   ]
  },
  {
   "cell_type": "code",
   "execution_count": 4,
   "metadata": {},
   "outputs": [],
   "source": [
    "filterset = Filter(macbeth, namespace=namespace)\n",
    "filterset = filterset.find(\"sp\").exclude(\"speaker\").exclude(\"stage\")"
   ]
  },
  {
   "cell_type": "markdown",
   "metadata": {},
   "source": [
    "## Parse text with spacy"
   ]
  },
  {
   "cell_type": "code",
   "execution_count": 5,
   "metadata": {},
   "outputs": [],
   "source": [
    "import spacy\n",
    "\n",
    "nlp = spacy.load(\"en\")"
   ]
  },
  {
   "cell_type": "code",
   "execution_count": 6,
   "metadata": {},
   "outputs": [],
   "source": [
    "import dhspacy\n",
    "dhnlp = dhspacy.init(nlp)\n",
    "\n",
    "for dhdoc in dhnlp(filterset):\n",
    "    for ent in dhdoc.doc.ents:\n",
    "        char_begin, char_end = dhdoc.get_char_inds(ent)\n",
    "        # in this case we stop as soon as we found the first entity\n",
    "        break;\n",
    "    break"
   ]
  },
  {
   "cell_type": "code",
   "execution_count": 7,
   "metadata": {},
   "outputs": [
    {
     "name": "stdout",
     "output_type": "stream",
     "text": [
      "three - CARDINAL\n"
     ]
    }
   ],
   "source": [
    "print(ent, \"-\", ent.label_)"
   ]
  },
  {
   "cell_type": "code",
   "execution_count": 8,
   "metadata": {},
   "outputs": [],
   "source": [
    "macbeth.add_annotation(\n",
    "    char_begin,\n",
    "    char_end,\n",
    "    \"entity\",\n",
    "    attribute={\n",
    "        \"label\":ent.label_,\n",
    "        \"responsible\": \"spacy\"\n",
    "    }\n",
    ")"
   ]
  },
  {
   "cell_type": "code",
   "execution_count": 9,
   "metadata": {
    "scrolled": false
   },
   "outputs": [
    {
     "name": "stdout",
     "output_type": "stream",
     "text": [
      "ead>\n",
      "                        \n",
      "                            <ns0:stage rend=\"italic center\" type=\"mixed\">Thunder and Lightning. Enter three Witches.</ns0:stage>\n",
      "                            <ns0:sp who=\"#F-mac-wit.1\">\n",
      "                                <ns0:speaker>1.</ns0:speaker>\n",
      "                                <ns0:l n=\"1\">\n",
      "                        <ns0:c rend=\"decoratedCapital\">W</ns0:c>hen shall we <entity label=\"CARDINAL\" responsible=\"spacy\">three</entity> meet againe?</ns0:l>\n",
      "                                <ns0:l n=\"2\">In Thunder, Lightning, or in Raine?</ns0:l>\n",
      "                            </ns0:sp>\n",
      "                            <ns0:sp who=\"#F-mac-wit.2\">\n",
      "                                <ns0:speaker>2.</ns0:speaker>\n",
      "                                <ns0:l n=\"3\">When the Hurley&#8209;burley'\n"
     ]
    }
   ],
   "source": [
    "resulting_tree = etree.tostring(macbeth.tree).decode(\"utf-8\")\n",
    "\n",
    "pos_of_label = resulting_tree.index('<entity ')\n",
    "\n",
    "print(resulting_tree[pos_of_label-400:pos_of_label+400])"
   ]
  }
 ],
 "metadata": {
  "kernelspec": {
   "display_name": "wh3",
   "language": "python",
   "name": "wh3"
  },
  "language_info": {
   "codemirror_mode": {
    "name": "ipython",
    "version": 3
   },
   "file_extension": ".py",
   "mimetype": "text/x-python",
   "name": "python",
   "nbconvert_exporter": "python",
   "pygments_lexer": "ipython3",
   "version": "3.7.4"
  }
 },
 "nbformat": 4,
 "nbformat_minor": 2
}
