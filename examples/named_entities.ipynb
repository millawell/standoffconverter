{
 "cells": [
  {
   "cell_type": "markdown",
   "metadata": {},
   "source": [
    "# Add entities recognized by spacy to Macbeth"
   ]
  },
  {
   "cell_type": "code",
   "execution_count": 1,
   "metadata": {},
   "outputs": [],
   "source": [
    "%load_ext autoreload\n",
    "%autoreload 2\n",
    "\n",
    "from standoffconverter import Standoff, View"
   ]
  },
  {
   "cell_type": "markdown",
   "metadata": {},
   "source": [
    "## Download Macbeth and parse it with standoffconverter"
   ]
  },
  {
   "cell_type": "code",
   "execution_count": 2,
   "metadata": {},
   "outputs": [],
   "source": [
    "import urllib.request\n",
    "from lxml import etree\n",
    "\n",
    "# download a play by shakespeare from the first folio edition\n",
    "url = \"https://firstfolio.bodleian.ox.ac.uk/download/xml/F-mac.xml\"\n",
    "response = urllib.request.urlopen(url).read()"
   ]
  },
  {
   "cell_type": "code",
   "execution_count": 3,
   "metadata": {},
   "outputs": [],
   "source": [
    "# parse it into our standof object (sobj)\n",
    "tree = etree.fromstring(response)\n",
    "    \n",
    "macbeth_so = Standoff(tree, namespaces={\"tei\":\"http://www.tei-c.org/ns/1.0\"})"
   ]
  },
  {
   "cell_type": "markdown",
   "metadata": {},
   "source": [
    "## Filter only spoken text"
   ]
  },
  {
   "cell_type": "code",
   "execution_count": 4,
   "metadata": {},
   "outputs": [],
   "source": [
    "view = View(macbeth_so.table)\n",
    "view = (view\n",
    "    .exclude_outside(\"{http://www.tei-c.org/ns/1.0}:sp\")\n",
    "    .shrink_whitespace()   \n",
    ")\n",
    "plain, lookup = view.get_plain()"
   ]
  },
  {
   "cell_type": "markdown",
   "metadata": {},
   "source": [
    "## Parse text with spacy"
   ]
  },
  {
   "cell_type": "code",
   "execution_count": 5,
   "metadata": {},
   "outputs": [],
   "source": [
    "import spacy\n",
    "nlp = spacy.load(\"en_core_web_sm\")"
   ]
  },
  {
   "cell_type": "code",
   "execution_count": 6,
   "metadata": {},
   "outputs": [],
   "source": [
    "doc = nlp(plain)\n",
    "for ent in doc.ents:\n",
    "    if ent.label_ == \"PERSON\":\n",
    "        start_ind = lookup.get_pos(ent.start_char)\n",
    "        end_ind = lookup.get_pos(ent.end_char+1)\n",
    "        # in this case we stop as soon as we found the first entity\n",
    "        break;"
   ]
  },
  {
   "cell_type": "code",
   "execution_count": 7,
   "metadata": {},
   "outputs": [
    {
     "output_type": "stream",
     "name": "stdout",
     "text": [
      "Witches - PERSON\n"
     ]
    }
   ],
   "source": [
    "print(ent, \"-\", ent.label_)"
   ]
  },
  {
   "cell_type": "code",
   "execution_count": 8,
   "metadata": {},
   "outputs": [],
   "source": [
    "macbeth_so.add_inline(\n",
    "    begin=start_ind,\n",
    "    end=end_ind,\n",
    "    tag='MyPersonTag',\n",
    "    depth=None,\n",
    "    attrib={\"resp\": \"spacy\"}\n",
    ")"
   ]
  },
  {
   "cell_type": "code",
   "execution_count": 9,
   "metadata": {
    "scrolled": false
   },
   "outputs": [
    {
     "output_type": "stream",
     "name": "stdout",
     "text": [
      "pe=\"act\" n=\"1\">\n                        <div type=\"scene\" n=\"1\">\n                            <head rend=\"italic center\">Actus Primus. Sc&#339;na Prima.</head>\n                                    <head type=\"supplied\">[Act 1, Scene 1]</head>\n                        <cb n=\"1\"/>\n                            <stage rend=\"italic center\" type=\"mixed\">Thunder and Lightning. Enter three <MyPersonTag resp=\"spacy\">Witches.</MyPersonTag></stage>\n                            <sp who=\"#F-mac-wit.1\">\n                                <speaker>1.</speaker>\n                                <l n=\"1\">\n                        <c rend=\"decoratedCapital\">W</c>hen shall we three meet againe?</l>\n                                <l n=\"2\">In Thunder, Lightning, or in Raine?</l>\n                            </sp>\n       \n"
     ]
    }
   ],
   "source": [
    "resulting_tree = etree.tostring(macbeth_so.tree).decode(\"utf-8\")\n",
    "\n",
    "pos_of_label = resulting_tree.index('spacy')\n",
    "\n",
    "print(resulting_tree[pos_of_label-400:pos_of_label+400])"
   ]
  }
 ],
 "metadata": {
  "kernelspec": {
   "display_name": "wh",
   "language": "python",
   "name": "wh"
  },
  "language_info": {
   "codemirror_mode": {
    "name": "ipython",
    "version": 3
   },
   "file_extension": ".py",
   "mimetype": "text/x-python",
   "name": "python",
   "nbconvert_exporter": "python",
   "pygments_lexer": "ipython3",
   "version": "3.8.6-final"
  }
 },
 "nbformat": 4,
 "nbformat_minor": 2
}