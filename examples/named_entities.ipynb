{
 "cells": [
  {
   "cell_type": "markdown",
   "metadata": {},
   "source": [
    "# Add entities recognized by spacy to Macbeth"
   ]
  },
  {
   "cell_type": "code",
   "execution_count": 1,
   "metadata": {},
   "outputs": [],
   "source": [
    "%load_ext autoreload\n",
    "%autoreload 2\n",
    "\n",
    "from standoffconverter import Standoff, View"
   ]
  },
  {
   "cell_type": "markdown",
   "metadata": {},
   "source": [
    "## Download Macbeth and parse it with standoffconverter"
   ]
  },
  {
   "cell_type": "code",
   "execution_count": 2,
   "metadata": {},
   "outputs": [],
   "source": [
    "import urllib.request\n",
    "from lxml import etree\n",
    "\n",
    "# download a play by shakespeare from the first folio edition\n",
    "url = \"https://firstfolio.bodleian.ox.ac.uk/download/xml/F-mac.xml\"\n",
    "response = urllib.request.urlopen(url).read()"
   ]
  },
  {
   "cell_type": "code",
   "execution_count": 3,
   "metadata": {},
   "outputs": [],
   "source": [
    "# parse it into our standof object (sobj)\n",
    "tree = etree.fromstring(response)\n",
    "    \n",
    "macbeth_so = Standoff(tree, namespaces={\"tei\":\"http://www.tei-c.org/ns/1.0\"})"
   ]
  },
  {
   "cell_type": "markdown",
   "metadata": {},
   "source": [
    "## Filter only spoken text"
   ]
  },
  {
   "cell_type": "code",
   "execution_count": 4,
   "metadata": {},
   "outputs": [],
   "source": [
    "view = View(macbeth_so)"
   ]
  },
  {
   "cell_type": "code",
   "execution_count": 5,
   "metadata": {},
   "outputs": [],
   "source": [
    "view = (view\n",
    "        .exclude_outside(\"{http://www.tei-c.org/ns/1.0}sp\")\n",
    "        .shrink_whitespace())"
   ]
  },
  {
   "cell_type": "code",
   "execution_count": 6,
   "metadata": {},
   "outputs": [],
   "source": [
    "plain = view.get_plain()"
   ]
  },
  {
   "cell_type": "code",
   "execution_count": 7,
   "metadata": {},
   "outputs": [
    {
     "data": {
      "text/plain": [
       "\" 1. When shall we three meet againe? In Thunder, Lightning, or in Raine? 2. When the Hurley‑burley's done, When the Battaile's lost, and wonne. 3. That will be ere the set of Sunne. 1. Where the place? 2. Vpon the Heath. 3. There to meet with Macbeth. 1. I come, Gray‑Malkin. All. Padock calls anon: faire is foule, and foule is faire, Houer through the fogge and filthie ayre. King. What bloody man is that? he can report, As seemeth by his plight, of the Reuolt The newest state Mal. This is the Serieant, Who like a good and hardie Souldier fought 'Gainst my Captiuitie: Haile braue friend; Say to the King, the knowledge of the Broyle, As thou didst leaue it. Cap. Doubtfull it stood, As two spent Swimmers, that doe cling together, And choake their Art: The mercilesse Macdonwald (Worthie to be a Rebell, for to that The multiplying Villanies of Nature Doe swarme vpon him) from the Westerne Isles Of Kernes and Gallowgrosses is supply'd, And Fortune on his damned Quarry smiling, Shew'd like a \""
      ]
     },
     "execution_count": 7,
     "metadata": {},
     "output_type": "execute_result"
    }
   ],
   "source": [
    "plain[:1000]"
   ]
  },
  {
   "cell_type": "markdown",
   "metadata": {},
   "source": [
    "## Parse text with spacy"
   ]
  },
  {
   "cell_type": "code",
   "execution_count": 8,
   "metadata": {},
   "outputs": [],
   "source": [
    "import spacy\n",
    "nlp = spacy.load(\"en_core_web_sm\")"
   ]
  },
  {
   "cell_type": "code",
   "execution_count": 9,
   "metadata": {},
   "outputs": [],
   "source": [
    "doc = nlp(plain)\n",
    "for ent in doc.ents:\n",
    "    if ent.label_ == \"PERSON\":\n",
    "        start_ind = view.get_table_pos(ent.start_char)\n",
    "        end_ind = view.get_table_pos(ent.end_char)\n",
    "        # in this case we stop as soon as we found the first entity\n",
    "        break;"
   ]
  },
  {
   "cell_type": "code",
   "execution_count": 10,
   "metadata": {},
   "outputs": [
    {
     "name": "stdout",
     "output_type": "stream",
     "text": [
      "Macbeth - PERSON\n"
     ]
    }
   ],
   "source": [
    "print(ent, \"-\", ent.label_)"
   ]
  },
  {
   "cell_type": "code",
   "execution_count": null,
   "metadata": {},
   "outputs": [],
   "source": []
  },
  {
   "cell_type": "code",
   "execution_count": 11,
   "metadata": {},
   "outputs": [],
   "source": [
    "macbeth_so.add_inline(\n",
    "    begin=start_ind,\n",
    "    end=end_ind,\n",
    "    tag='MyPersonTag',\n",
    "    depth=None,\n",
    "    attrib={\"resp\": \"spacy\"},\n",
    ")"
   ]
  },
  {
   "cell_type": "code",
   "execution_count": 12,
   "metadata": {
    "scrolled": false
   },
   "outputs": [
    {
     "name": "stdout",
     "output_type": "stream",
     "text": [
      "                        <sp who=\"#F-mac-wit.2\">\n",
      "                                <speaker>2.</speaker>\n",
      "                                <l n=\"7\">Vpon the Heath.</l>\n",
      "                            </sp>\n",
      "                            <sp who=\"#F-mac-mur.3\">\n",
      "                                <speaker>3.</speaker>\n",
      "                                <l n=\"8\">There to meet with <hi rend=\"italic\"><MyPersonTag resp=\"spacy\">Macbeth</MyPersonTag></hi>.</l>\n",
      "                            </sp>\n",
      "                            <sp who=\"#F-mac-wit.1\">\n",
      "                                <speaker>1.</speaker>\n",
      "                                <l n=\"9\">I come, <hi rend=\"italic\">Gray&#8209;Malkin</hi>.</l>\n",
      "                  </sp>\n",
      "                            <sp who=\"#F-mac-all\">\n",
      "                                <speaker rend=\"itali\n"
     ]
    }
   ],
   "source": [
    "resulting_tree = etree.tostring(macbeth_so.tree).decode(\"utf-8\")\n",
    "\n",
    "pos_of_label = resulting_tree.index('spacy')\n",
    "\n",
    "print(resulting_tree[pos_of_label-400:pos_of_label+400])"
   ]
  }
 ],
 "metadata": {
  "kernelspec": {
   "display_name": "wh",
   "language": "python",
   "name": "wh"
  },
  "language_info": {
   "codemirror_mode": {
    "name": "ipython",
    "version": 3
   },
   "file_extension": ".py",
   "mimetype": "text/x-python",
   "name": "python",
   "nbconvert_exporter": "python",
   "pygments_lexer": "ipython3",
   "version": "3.8.12"
  }
 },
 "nbformat": 4,
 "nbformat_minor": 2
}
