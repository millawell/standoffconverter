{
 "cells": [
  {
   "cell_type": "markdown",
   "metadata": {},
   "source": [
    "# Add entities recognized by spacy to Macbeth"
   ]
  },
  {
   "cell_type": "code",
   "execution_count": 1,
   "metadata": {},
   "outputs": [],
   "source": [
    "%load_ext autoreload\n",
    "%autoreload 2\n",
    "\n",
    "from standoffconverter import Converter as Co"
   ]
  },
  {
   "cell_type": "markdown",
   "metadata": {},
   "source": [
    "## Download Macbeth and parse it with standoffconverter"
   ]
  },
  {
   "cell_type": "code",
   "execution_count": 2,
   "metadata": {},
   "outputs": [],
   "source": [
    "import urllib.request\n",
    "from lxml import etree\n",
    "\n",
    "# download a play by shakespeare from the first folio edition\n",
    "url = \"https://firstfolio.bodleian.ox.ac.uk/download/xml/F-mac.xml\"\n",
    "response = urllib.request.urlopen(url).read()"
   ]
  },
  {
   "cell_type": "code",
   "execution_count": 3,
   "metadata": {},
   "outputs": [],
   "source": [
    "# parse it into our standof object (sobj)\n",
    "tree = etree.fromstring(response)\n",
    "    \n",
    "macbeth = Co.from_tree(tree)"
   ]
  },
  {
   "cell_type": "markdown",
   "metadata": {},
   "source": [
    "## Filter only spoken text"
   ]
  },
  {
   "cell_type": "code",
   "execution_count": 5,
   "metadata": {},
   "outputs": [],
   "source": [
    "speeches = macbeth.root_ap.xpath(\"//tei:sp\", namespaces={\"tei\":\"http://www.tei-c.org/ns/1.0\"})"
   ]
  },
  {
   "cell_type": "markdown",
   "metadata": {},
   "source": [
    "## Parse text with spacy"
   ]
  },
  {
   "cell_type": "code",
   "execution_count": 6,
   "metadata": {},
   "outputs": [],
   "source": [
    "import spacy\n",
    "\n",
    "nlp = spacy.load(\"en\")"
   ]
  },
  {
   "cell_type": "code",
   "execution_count": 7,
   "metadata": {},
   "outputs": [
    {
     "ename": "AttributeError",
     "evalue": "module 'standoffconverter' has no attribute 'Filter'",
     "output_type": "error",
     "traceback": [
      "\u001b[0;31m---------------------------------------------------------------------------\u001b[0m",
      "\u001b[0;31mAttributeError\u001b[0m                            Traceback (most recent call last)",
      "\u001b[0;32m<ipython-input-7-14accc71014d>\u001b[0m in \u001b[0;36m<module>\u001b[0;34m\u001b[0m\n\u001b[1;32m      2\u001b[0m \u001b[0mdhnlp\u001b[0m \u001b[0;34m=\u001b[0m \u001b[0mdhspacy\u001b[0m\u001b[0;34m.\u001b[0m\u001b[0minit\u001b[0m\u001b[0;34m(\u001b[0m\u001b[0mnlp\u001b[0m\u001b[0;34m)\u001b[0m\u001b[0;34m\u001b[0m\u001b[0;34m\u001b[0m\u001b[0m\n\u001b[1;32m      3\u001b[0m \u001b[0;34m\u001b[0m\u001b[0m\n\u001b[0;32m----> 4\u001b[0;31m \u001b[0;32mfor\u001b[0m \u001b[0mdhdoc\u001b[0m \u001b[0;32min\u001b[0m \u001b[0mdhnlp\u001b[0m\u001b[0;34m(\u001b[0m\u001b[0mspeeches\u001b[0m\u001b[0;34m)\u001b[0m\u001b[0;34m:\u001b[0m\u001b[0;34m\u001b[0m\u001b[0;34m\u001b[0m\u001b[0m\n\u001b[0m\u001b[1;32m      5\u001b[0m     \u001b[0;32mfor\u001b[0m \u001b[0ment\u001b[0m \u001b[0;32min\u001b[0m \u001b[0mdhdoc\u001b[0m\u001b[0;34m.\u001b[0m\u001b[0mdoc\u001b[0m\u001b[0;34m.\u001b[0m\u001b[0ments\u001b[0m\u001b[0;34m:\u001b[0m\u001b[0;34m\u001b[0m\u001b[0;34m\u001b[0m\u001b[0m\n\u001b[1;32m      6\u001b[0m         \u001b[0mchar_begin\u001b[0m\u001b[0;34m,\u001b[0m \u001b[0mchar_end\u001b[0m \u001b[0;34m=\u001b[0m \u001b[0mdhdoc\u001b[0m\u001b[0;34m.\u001b[0m\u001b[0mget_char_inds\u001b[0m\u001b[0;34m(\u001b[0m\u001b[0ment\u001b[0m\u001b[0;34m)\u001b[0m\u001b[0;34m\u001b[0m\u001b[0;34m\u001b[0m\u001b[0m\n",
      "\u001b[0;32m~/code/standoff-nlp/dh-nlp/dhspacy/__init__.py\u001b[0m in \u001b[0;36m__call__\u001b[0;34m(self, filtersets)\u001b[0m\n\u001b[1;32m     59\u001b[0m     \u001b[0;32mdef\u001b[0m \u001b[0m__call__\u001b[0m\u001b[0;34m(\u001b[0m\u001b[0mself\u001b[0m\u001b[0;34m,\u001b[0m \u001b[0mfiltersets\u001b[0m\u001b[0;34m)\u001b[0m\u001b[0;34m:\u001b[0m\u001b[0;34m\u001b[0m\u001b[0;34m\u001b[0m\u001b[0m\n\u001b[1;32m     60\u001b[0m \u001b[0;34m\u001b[0m\u001b[0m\n\u001b[0;32m---> 61\u001b[0;31m         \u001b[0;32mif\u001b[0m \u001b[0mtype\u001b[0m\u001b[0;34m(\u001b[0m\u001b[0mfiltersets\u001b[0m\u001b[0;34m)\u001b[0m \u001b[0;34m!=\u001b[0m \u001b[0mstandoffconverter\u001b[0m\u001b[0;34m.\u001b[0m\u001b[0mFilter\u001b[0m\u001b[0;34m:\u001b[0m\u001b[0;34m\u001b[0m\u001b[0;34m\u001b[0m\u001b[0m\n\u001b[0m\u001b[1;32m     62\u001b[0m             \u001b[0;32mraise\u001b[0m \u001b[0mTypeError\u001b[0m\u001b[0;34m(\u001b[0m\u001b[0;34m\"filtersets has to be of type 'standoffconverter.Filter'.\"\u001b[0m\u001b[0;34m)\u001b[0m\u001b[0;34m\u001b[0m\u001b[0;34m\u001b[0m\u001b[0m\n\u001b[1;32m     63\u001b[0m         \u001b[0mtexts\u001b[0m\u001b[0;34m,\u001b[0m \u001b[0mstandoffs\u001b[0m \u001b[0;34m=\u001b[0m \u001b[0mzip\u001b[0m\u001b[0;34m(\u001b[0m\u001b[0;34m*\u001b[0m\u001b[0mfiltersets\u001b[0m\u001b[0;34m)\u001b[0m\u001b[0;34m\u001b[0m\u001b[0;34m\u001b[0m\u001b[0m\n",
      "\u001b[0;31mAttributeError\u001b[0m: module 'standoffconverter' has no attribute 'Filter'"
     ]
    }
   ],
   "source": [
    "import dhspacy\n",
    "dhnlp = dhspacy.init(nlp)\n",
    "\n",
    "for dhdoc in dhnlp(speeches):\n",
    "    for ent in dhdoc.doc.ents:\n",
    "        char_begin, char_end = dhdoc.get_char_inds(ent)\n",
    "        # in this case we stop as soon as we found the first entity\n",
    "        break;\n",
    "    break"
   ]
  },
  {
   "cell_type": "code",
   "execution_count": 7,
   "metadata": {},
   "outputs": [
    {
     "name": "stdout",
     "output_type": "stream",
     "text": [
      "three - CARDINAL\n"
     ]
    }
   ],
   "source": [
    "print(ent, \"-\", ent.label_)"
   ]
  },
  {
   "cell_type": "code",
   "execution_count": 8,
   "metadata": {},
   "outputs": [],
   "source": [
    "macbeth.add_annotation(\n",
    "    char_begin,\n",
    "    char_end,\n",
    "    \"entity\",\n",
    "    attribute={\n",
    "        \"label\":ent.label_,\n",
    "        \"responsible\": \"spacy\"\n",
    "    }\n",
    ")"
   ]
  },
  {
   "cell_type": "code",
   "execution_count": 9,
   "metadata": {
    "scrolled": false
   },
   "outputs": [
    {
     "name": "stdout",
     "output_type": "stream",
     "text": [
      "ead>\n",
      "                        \n",
      "                            <ns0:stage rend=\"italic center\" type=\"mixed\">Thunder and Lightning. Enter three Witches.</ns0:stage>\n",
      "                            <ns0:sp who=\"#F-mac-wit.1\">\n",
      "                                <ns0:speaker>1.</ns0:speaker>\n",
      "                                <ns0:l n=\"1\">\n",
      "                        <ns0:c rend=\"decoratedCapital\">W</ns0:c>hen shall we <entity label=\"CARDINAL\" responsible=\"spacy\">three</entity> meet againe?</ns0:l>\n",
      "                                <ns0:l n=\"2\">In Thunder, Lightning, or in Raine?</ns0:l>\n",
      "                            </ns0:sp>\n",
      "                            <ns0:sp who=\"#F-mac-wit.2\">\n",
      "                                <ns0:speaker>2.</ns0:speaker>\n",
      "                                <ns0:l n=\"3\">When the Hurley&#8209;burley'\n"
     ]
    }
   ],
   "source": [
    "resulting_tree = etree.tostring(macbeth.tree).decode(\"utf-8\")\n",
    "\n",
    "pos_of_label = resulting_tree.index('<entity ')\n",
    "\n",
    "print(resulting_tree[pos_of_label-400:pos_of_label+400])"
   ]
  }
 ],
 "metadata": {
  "kernelspec": {
   "display_name": "wh3",
   "language": "python",
   "name": "wh3"
  },
  "language_info": {
   "codemirror_mode": {
    "name": "ipython",
    "version": 3
   },
   "file_extension": ".py",
   "mimetype": "text/x-python",
   "name": "python",
   "nbconvert_exporter": "python",
   "pygments_lexer": "ipython3",
   "version": "3.7.4"
  }
 },
 "nbformat": 4,
 "nbformat_minor": 2
}
