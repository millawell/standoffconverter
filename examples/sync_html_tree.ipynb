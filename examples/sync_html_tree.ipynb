{
 "cells": [
  {
   "cell_type": "code",
   "execution_count": 1,
   "metadata": {},
   "outputs": [],
   "source": [
    "import os\n",
    "from lxml import etree\n",
    "os.chdir(\"..\")\n",
    "import standoffconverter\n",
    "from IPython.core.display import display, HTML, clear_output\n",
    "\n",
    "from IPython.display import display\n",
    "import ipywidgets as widgets"
   ]
  },
  {
   "cell_type": "code",
   "execution_count": 4,
   "metadata": {},
   "outputs": [
    {
     "data": {
      "application/vnd.jupyter.widget-view+json": {
       "model_id": "9286ed7faa784013aa38804b2183bd26",
       "version_major": 2,
       "version_minor": 0
      },
      "text/plain": [
       "Button(description='add annotation', style=ButtonStyle())"
      ]
     },
     "metadata": {},
     "output_type": "display_data"
    },
    {
     "data": {
      "application/vnd.jupyter.widget-view+json": {
       "model_id": "87d9c5e435304adf83857e35db3292c1",
       "version_major": 2,
       "version_minor": 0
      },
      "text/plain": [
       "Output()"
      ]
     },
     "metadata": {},
     "output_type": "display_data"
    },
    {
     "data": {
      "application/vnd.jupyter.widget-view+json": {
       "model_id": "e3e75031ae914322a93cbde107d76758",
       "version_major": 2,
       "version_minor": 0
      },
      "text/plain": [
       "Button(description='remove annotation', style=ButtonStyle())"
      ]
     },
     "metadata": {},
     "output_type": "display_data"
    },
    {
     "data": {
      "application/vnd.jupyter.widget-view+json": {
       "model_id": "b16ac81957504c1584415b5239da1192",
       "version_major": 2,
       "version_minor": 0
      },
      "text/plain": [
       "Output()"
      ]
     },
     "metadata": {},
     "output_type": "display_data"
    },
    {
     "data": {
      "text/html": [
       "<div><div><span style=\"background-color:#c00;\">abc</span> <span style=\"background-color:#c00;\">abc</span> <span style=\"background-color:#c00;\">abc</span> <span style=\"background-color:#c00;\">abc</span> <span style=\"background-color:#c00;\">abc</span> <span style=\"background-color:#c00;\">abc</span> abc abc abc abc abc abc abc abc abc abc abc abc abc abc abc abc abc abc abc abc abc abc abc abc abc abc abc abc abc abc abc abc abc abc abc abc abc abc abc abc abc abc abc abc abc abc abc abc abc abc abc abc abc abc abc abc abc abc abc abc abc abc abc abc abc abc abc abc abc abc abc abc abc abc abc abc abc abc abc abc abc abc abc abc abc abc abc abc abc abc abc abc abc abc abc abc abc abc abc abc abc abc abc abc abc abc abc abc abc abc abc abc abc abc abc abc abc abc abc abc abc abc abc abc abc abc abc abc abc abc abc abc abc abc abc abc abc abc abc abc abc abc abc abc abc abc abc abc abc abc abc abc abc abc abc abc abc abc abc abc abc abc abc abc abc abc abc abc abc abc abc abc abc abc abc abc abc abc abc abc abc abc abc abc abc abc abc abc abc abc abc abc abc abc</div></div>"
      ],
      "text/plain": [
       "<IPython.core.display.HTML object>"
      ]
     },
     "metadata": {},
     "output_type": "display_data"
    },
    {
     "name": "stdout",
     "output_type": "stream",
     "text": [
      "<div>\n",
      "  <div><span style=\"background-color:#c00;\">abc</span> <span style=\"background-color:#c00;\">abc</span> <span style=\"background-color:#c00;\">abc</span> <span style=\"background-color:#c00;\">abc</span> <span style=\"background-color:#c00;\">abc</span> <span style=\"background-color:#c00;\">abc</span> abc abc abc abc abc abc abc abc abc abc abc abc abc abc abc abc abc abc abc abc abc abc abc abc abc abc abc abc abc abc abc abc abc abc abc abc abc abc abc abc abc abc abc abc abc abc abc abc abc abc abc abc abc abc abc abc abc abc abc abc abc abc abc abc abc abc abc abc abc abc abc abc abc abc abc abc abc abc abc abc abc abc abc abc abc abc abc abc abc abc abc abc abc abc abc abc abc abc abc abc abc abc abc abc abc abc abc abc abc abc abc abc abc abc abc abc abc abc abc abc abc abc abc abc abc abc abc abc abc abc abc abc abc abc abc abc abc abc abc abc abc abc abc abc abc abc abc abc abc abc abc abc abc abc abc abc abc abc abc abc abc abc abc abc abc abc abc abc abc abc abc abc abc abc abc abc abc abc abc abc abc abc abc abc abc abc abc abc abc abc abc abc abc abc</div>\n",
      "</div>\n",
      "\n"
     ]
    }
   ],
   "source": [
    "# create some dummy input tree\n",
    "input_text = \" \".join([\"abc\"]*200)\n",
    "\n",
    "init_tree = etree.Element(\"div\")\n",
    "\n",
    "sub = etree.Element(\"div\")\n",
    "\n",
    "init_tree.append(sub)\n",
    "\n",
    "sub.text = input_text\n",
    "\n",
    "converter = standoffconverter.Converter.from_tree(init_tree)\n",
    "\n",
    "# create widget\n",
    "\n",
    "button_add = widgets.Button(description=\"add annotation\")\n",
    "button_remove = widgets.Button(description=\"remove annotation\")\n",
    "output_a = widgets.Output()\n",
    "output_b = widgets.Output()\n",
    "display(button_add, output_a)\n",
    "display(button_remove, output_b)\n",
    "\n",
    "# iteratively add tokens l2r\n",
    "c_pos = 0\n",
    "\n",
    "def rerender():\n",
    "    clear_output()\n",
    "    display(button_add, output_a)\n",
    "    display(button_remove, output_b)\n",
    "    # display resulting html\n",
    "    display(HTML(etree.tostring(converter.tree).decode(\"utf-8\")))\n",
    "    # and the lxml.etree\n",
    "    print(etree.tostring(converter.tree, pretty_print=True).decode(\"utf-8\"))\n",
    "    \n",
    "# events for adding and removing elements\n",
    "def on_add(b):\n",
    "    global c_pos\n",
    "    converter.add_annotation(c_pos*4,c_pos*4+3, \"span\", 0, {\"style\":\"background-color:#c00;\"})\n",
    "    c_pos += 1\n",
    "    rerender()\n",
    "    \n",
    "def on_remove(b):\n",
    "    global c_pos\n",
    "    converter.remove_annotation(converter.collection[-1])\n",
    "    c_pos -= 1\n",
    "    rerender()\n",
    "    \n",
    "button_add.on_click(on_add)\n",
    "button_remove.on_click(on_remove)"
   ]
  }
 ],
 "metadata": {
  "kernelspec": {
   "display_name": "Python 3",
   "language": "python",
   "name": "python3"
  },
  "language_info": {
   "codemirror_mode": {
    "name": "ipython",
    "version": 3
   },
   "file_extension": ".py",
   "mimetype": "text/x-python",
   "name": "python",
   "nbconvert_exporter": "python",
   "pygments_lexer": "ipython3",
   "version": "3.7.5"
  }
 },
 "nbformat": 4,
 "nbformat_minor": 2
}
