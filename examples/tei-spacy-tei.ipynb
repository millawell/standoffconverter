{
 "cells": [
  {
   "cell_type": "markdown",
   "metadata": {},
   "source": [
    "# From TEI to spacy world and back\n",
    "\n",
    "First, let us look at this oversimplified TEI document"
   ]
  },
  {
   "cell_type": "code",
   "execution_count": null,
   "metadata": {},
   "outputs": [],
   "source": [
    "!pip install standoffconverter\n",
    "!pip install spacy"
   ]
  },
  {
   "cell_type": "code",
   "execution_count": 2,
   "metadata": {},
   "outputs": [],
   "source": [
    "from lxml import etree\n",
    "from standoffconverter import Converter\n",
    "\n",
    "input_xml = '''<TEI>\n",
    "    <teiHeader>\n",
    "    </teiHeader>\n",
    "    <text>\n",
    "        <body>\n",
    "            <p>1 2 3 4 5 6 7 9 10</p>\n",
    "            <p> 11 12 13 14</p>\n",
    "        </body>\n",
    "    </text>\n",
    "</TEI>'''"
   ]
  },
  {
   "cell_type": "markdown",
   "metadata": {},
   "source": [
    "We will first parse it with lxml and then initialize the Converter"
   ]
  },
  {
   "cell_type": "code",
   "execution_count": 3,
   "metadata": {},
   "outputs": [],
   "source": [
    "parser = etree.XMLParser(remove_blank_text=True)\n",
    "tree = etree.fromstring(input_xml, parser=parser)\n",
    "converter = Converter(tree)\n",
    "converter.ensure_cache()"
   ]
  },
  {
   "cell_type": "markdown",
   "metadata": {},
   "source": [
    "With this converter, you have access to the different data structures, for example the \n",
    "\n",
    "* the simple standoff table `converter.table`\n",
    "* the tree `converter.text_el`\n",
    "* just the text ``converter.plain`\n",
    "* the json of all annotations `converter.json`\n",
    "* and (which I like a lot, the collapsed standoff table) `converter.collapsed_table`"
   ]
  },
  {
   "cell_type": "code",
   "execution_count": 4,
   "metadata": {},
   "outputs": [
    {
     "data": {
      "text/html": [
       "<div>\n",
       "<style scoped>\n",
       "    .dataframe tbody tr th:only-of-type {\n",
       "        vertical-align: middle;\n",
       "    }\n",
       "\n",
       "    .dataframe tbody tr th {\n",
       "        vertical-align: top;\n",
       "    }\n",
       "\n",
       "    .dataframe thead th {\n",
       "        text-align: right;\n",
       "    }\n",
       "</style>\n",
       "<table border=\"1\" class=\"dataframe\">\n",
       "  <thead>\n",
       "    <tr style=\"text-align: right;\">\n",
       "      <th></th>\n",
       "      <th>sos</th>\n",
       "      <th>text</th>\n",
       "    </tr>\n",
       "  </thead>\n",
       "  <tbody>\n",
       "    <tr>\n",
       "      <th>0</th>\n",
       "      <td>[text, body, p]</td>\n",
       "      <td>1</td>\n",
       "    </tr>\n",
       "    <tr>\n",
       "      <th>1</th>\n",
       "      <td>[text, body, p]</td>\n",
       "      <td></td>\n",
       "    </tr>\n",
       "    <tr>\n",
       "      <th>2</th>\n",
       "      <td>[text, body, p]</td>\n",
       "      <td>2</td>\n",
       "    </tr>\n",
       "    <tr>\n",
       "      <th>3</th>\n",
       "      <td>[text, body, p]</td>\n",
       "      <td></td>\n",
       "    </tr>\n",
       "    <tr>\n",
       "      <th>4</th>\n",
       "      <td>[text, body, p]</td>\n",
       "      <td>3</td>\n",
       "    </tr>\n",
       "  </tbody>\n",
       "</table>\n",
       "</div>"
      ],
      "text/plain": [
       "               sos text\n",
       "0  [text, body, p]    1\n",
       "1  [text, body, p]     \n",
       "2  [text, body, p]    2\n",
       "3  [text, body, p]     \n",
       "4  [text, body, p]    3"
      ]
     },
     "execution_count": 4,
     "metadata": {},
     "output_type": "execute_result"
    }
   ],
   "source": [
    "converter.table.head()"
   ]
  },
  {
   "cell_type": "code",
   "execution_count": 5,
   "metadata": {},
   "outputs": [
    {
     "data": {
      "text/plain": [
       "<Element text at 0x119e9e548>"
      ]
     },
     "execution_count": 5,
     "metadata": {},
     "output_type": "execute_result"
    }
   ],
   "source": [
    "converter.text_el"
   ]
  },
  {
   "cell_type": "code",
   "execution_count": 6,
   "metadata": {},
   "outputs": [
    {
     "data": {
      "text/plain": [
       "'1 2 3 4 5 6 7 9 10 11 12 13 14'"
      ]
     },
     "execution_count": 6,
     "metadata": {},
     "output_type": "execute_result"
    }
   ],
   "source": [
    "converter.plain"
   ]
  },
  {
   "cell_type": "code",
   "execution_count": 7,
   "metadata": {},
   "outputs": [
    {
     "data": {
      "text/plain": [
       "'[{\"tag\": \"text\", \"attrib\": {}, \"begin\": 0, \"end\": 30, \"depth\": 0}, {\"tag\": \"body\", \"attrib\": {}, \"begin\": 0, \"end\": 30, \"depth\": 1}, {\"tag\": \"p\", \"attrib\": {}, \"begin\": 0, \"end\": 18, \"depth\": 2}, {\"tag\": \"p\", \"attrib\": {}, \"begin\": 18, \"end\": 30, \"depth\": 2}]'"
      ]
     },
     "execution_count": 7,
     "metadata": {},
     "output_type": "execute_result"
    }
   ],
   "source": [
    "converter.json"
   ]
  },
  {
   "cell_type": "code",
   "execution_count": 8,
   "metadata": {},
   "outputs": [
    {
     "data": {
      "text/html": [
       "<div>\n",
       "<style scoped>\n",
       "    .dataframe tbody tr th:only-of-type {\n",
       "        vertical-align: middle;\n",
       "    }\n",
       "\n",
       "    .dataframe tbody tr th {\n",
       "        vertical-align: top;\n",
       "    }\n",
       "\n",
       "    .dataframe thead th {\n",
       "        text-align: right;\n",
       "    }\n",
       "</style>\n",
       "<table border=\"1\" class=\"dataframe\">\n",
       "  <thead>\n",
       "    <tr style=\"text-align: right;\">\n",
       "      <th></th>\n",
       "      <th>context</th>\n",
       "      <th>text</th>\n",
       "    </tr>\n",
       "  </thead>\n",
       "  <tbody>\n",
       "    <tr>\n",
       "      <th>0</th>\n",
       "      <td>[text, body, p]</td>\n",
       "      <td>1 2 3 4 5 6 7 9 10</td>\n",
       "    </tr>\n",
       "    <tr>\n",
       "      <th>1</th>\n",
       "      <td>[text, body, p]</td>\n",
       "      <td>11 12 13 14</td>\n",
       "    </tr>\n",
       "  </tbody>\n",
       "</table>\n",
       "</div>"
      ],
      "text/plain": [
       "           context                text\n",
       "0  [text, body, p]  1 2 3 4 5 6 7 9 10\n",
       "1  [text, body, p]         11 12 13 14"
      ]
     },
     "execution_count": 8,
     "metadata": {},
     "output_type": "execute_result"
    }
   ],
   "source": [
    "converter.collapsed_table"
   ]
  },
  {
   "cell_type": "markdown",
   "metadata": {},
   "source": [
    "To illustrate how to do something with spacy and then pass the token-level information back to the standoff, we would like to annotate all numbers that are divisible by 2 with the imaginary <divisibleby2>-tag.\n",
    "In the next cell, just the plain text from the converter is tokenized with spacy and individual tokens are classified into divisible/non-divisible."
   ]
  },
  {
   "cell_type": "code",
   "execution_count": 9,
   "metadata": {},
   "outputs": [],
   "source": [
    "from spacy.tokenizer import Tokenizer\n",
    "import spacy\n",
    "\n",
    "def tokenize(str_):\n",
    "    nlp = spacy.blank('en')\n",
    "    return Tokenizer(nlp.vocab)(str_)\n",
    "\n",
    "def it_annotations(doc, labels):\n",
    "    for token, label in zip(doc, labels):\n",
    "        begin, end = token.idx, token.idx+len(token)\n",
    "        if label is not None:\n",
    "            yield begin, end, label\n",
    "\n",
    "candidates = tokenize(converter.plain)\n",
    "labels = ['divisible_by2' if int(tok.text)%2==0 else None for tok in candidates]"
   ]
  },
  {
   "cell_type": "markdown",
   "metadata": {},
   "source": [
    "With token.idx, spacy keeps track of the character offset of the token. that way, we can get back the position of the token afterwards. Here, with `converter.add_inline` we add annotations on character level."
   ]
  },
  {
   "cell_type": "code",
   "execution_count": 10,
   "metadata": {},
   "outputs": [],
   "source": [
    "for begin, end, label in it_annotations(candidates, labels):\n",
    "\n",
    "    converter.add_inline(\n",
    "        begin=begin,\n",
    "        end=end,\n",
    "        tag=\"divisibleby2\",\n",
    "        depth=None,\n",
    "        attrib={}\n",
    "    )"
   ]
  },
  {
   "cell_type": "code",
   "execution_count": 11,
   "metadata": {},
   "outputs": [
    {
     "data": {
      "text/html": [
       "<div>\n",
       "<style scoped>\n",
       "    .dataframe tbody tr th:only-of-type {\n",
       "        vertical-align: middle;\n",
       "    }\n",
       "\n",
       "    .dataframe tbody tr th {\n",
       "        vertical-align: top;\n",
       "    }\n",
       "\n",
       "    .dataframe thead th {\n",
       "        text-align: right;\n",
       "    }\n",
       "</style>\n",
       "<table border=\"1\" class=\"dataframe\">\n",
       "  <thead>\n",
       "    <tr style=\"text-align: right;\">\n",
       "      <th></th>\n",
       "      <th>context</th>\n",
       "      <th>text</th>\n",
       "    </tr>\n",
       "  </thead>\n",
       "  <tbody>\n",
       "    <tr>\n",
       "      <th>0</th>\n",
       "      <td>[text, body, p]</td>\n",
       "      <td>1</td>\n",
       "    </tr>\n",
       "    <tr>\n",
       "      <th>1</th>\n",
       "      <td>[text, body, p, divisibleby2]</td>\n",
       "      <td>2</td>\n",
       "    </tr>\n",
       "    <tr>\n",
       "      <th>2</th>\n",
       "      <td>[text, body, p]</td>\n",
       "      <td>3</td>\n",
       "    </tr>\n",
       "    <tr>\n",
       "      <th>3</th>\n",
       "      <td>[text, body, p, divisibleby2]</td>\n",
       "      <td>4</td>\n",
       "    </tr>\n",
       "    <tr>\n",
       "      <th>4</th>\n",
       "      <td>[text, body, p]</td>\n",
       "      <td>5</td>\n",
       "    </tr>\n",
       "    <tr>\n",
       "      <th>5</th>\n",
       "      <td>[text, body, p, divisibleby2]</td>\n",
       "      <td>6</td>\n",
       "    </tr>\n",
       "    <tr>\n",
       "      <th>6</th>\n",
       "      <td>[text, body, p]</td>\n",
       "      <td>7 9</td>\n",
       "    </tr>\n",
       "    <tr>\n",
       "      <th>7</th>\n",
       "      <td>[text, body, p, divisibleby2]</td>\n",
       "      <td>10</td>\n",
       "    </tr>\n",
       "    <tr>\n",
       "      <th>8</th>\n",
       "      <td>[text, body, p]</td>\n",
       "      <td>11</td>\n",
       "    </tr>\n",
       "    <tr>\n",
       "      <th>9</th>\n",
       "      <td>[text, body, p, divisibleby2]</td>\n",
       "      <td>12</td>\n",
       "    </tr>\n",
       "    <tr>\n",
       "      <th>10</th>\n",
       "      <td>[text, body, p]</td>\n",
       "      <td>13</td>\n",
       "    </tr>\n",
       "    <tr>\n",
       "      <th>11</th>\n",
       "      <td>[text, body, p, divisibleby2]</td>\n",
       "      <td>14</td>\n",
       "    </tr>\n",
       "  </tbody>\n",
       "</table>\n",
       "</div>"
      ],
      "text/plain": [
       "                          context   text\n",
       "0                 [text, body, p]     1 \n",
       "1   [text, body, p, divisibleby2]      2\n",
       "2                 [text, body, p]     3 \n",
       "3   [text, body, p, divisibleby2]      4\n",
       "4                 [text, body, p]     5 \n",
       "5   [text, body, p, divisibleby2]      6\n",
       "6                 [text, body, p]   7 9 \n",
       "7   [text, body, p, divisibleby2]     10\n",
       "8                 [text, body, p]    11 \n",
       "9   [text, body, p, divisibleby2]     12\n",
       "10                [text, body, p]    13 \n",
       "11  [text, body, p, divisibleby2]     14"
      ]
     },
     "execution_count": 11,
     "metadata": {},
     "output_type": "execute_result"
    }
   ],
   "source": [
    "converter.collapsed_table"
   ]
  },
  {
   "cell_type": "code",
   "execution_count": 12,
   "metadata": {},
   "outputs": [
    {
     "data": {
      "text/plain": [
       "'<text><body><p>1 <divisibleby2>2</divisibleby2> 3 <divisibleby2>4</divisibleby2> 5 <divisibleby2>6</divisibleby2> 7 9 <divisibleby2>10</divisibleby2></p><p> 11 <divisibleby2>12</divisibleby2> 13 <divisibleby2>14</divisibleby2></p></body></text>'"
      ]
     },
     "execution_count": 12,
     "metadata": {},
     "output_type": "execute_result"
    }
   ],
   "source": [
    "etree.tostring(converter.text_el).decode(\"utf-8\")"
   ]
  }
 ],
 "metadata": {
  "kernelspec": {
   "display_name": "test_so",
   "language": "python",
   "name": "test_so"
  },
  "language_info": {
   "codemirror_mode": {
    "name": "ipython",
    "version": 3
   },
   "file_extension": ".py",
   "mimetype": "text/x-python",
   "name": "python",
   "nbconvert_exporter": "python",
   "pygments_lexer": "ipython3",
   "version": "3.7.0"
  }
 },
 "nbformat": 4,
 "nbformat_minor": 4
}
