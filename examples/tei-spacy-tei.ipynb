{
 "cells": [
  {
   "cell_type": "markdown",
   "metadata": {},
   "source": [
    "# From TEI to spacy world and back\n",
    "\n",
    "First, let us look at this oversimplified TEI document"
   ]
  },
  {
   "cell_type": "code",
   "execution_count": 1,
   "metadata": {},
   "outputs": [
    {
     "name": "stdout",
     "output_type": "stream",
     "text": [
      "Requirement already satisfied: standoffconverter in /Users/davidlassner/code/standoff-nlp/standoffconverter (0.8.7)\n",
      "Requirement already satisfied: lxml in /Users/davidlassner/Envs/wh/lib/python3.8/site-packages (from standoffconverter) (4.5.2)\n",
      "Requirement already satisfied: numpy in /Users/davidlassner/Envs/wh/lib/python3.8/site-packages (from standoffconverter) (1.19.1)\n",
      "Requirement already satisfied: pandas in /Users/davidlassner/Envs/wh/lib/python3.8/site-packages (from standoffconverter) (1.1.1)\n",
      "Requirement already satisfied: python-dateutil>=2.7.3 in /Users/davidlassner/Envs/wh/lib/python3.8/site-packages (from pandas->standoffconverter) (2.8.1)\n",
      "Requirement already satisfied: pytz>=2017.2 in /Users/davidlassner/Envs/wh/lib/python3.8/site-packages (from pandas->standoffconverter) (2020.1)\n",
      "Requirement already satisfied: six>=1.5 in /Users/davidlassner/Envs/wh/lib/python3.8/site-packages (from python-dateutil>=2.7.3->pandas->standoffconverter) (1.15.0)\n",
      "\u001b[33mWARNING: You are using pip version 21.1.3; however, version 21.2.4 is available.\n",
      "You should consider upgrading via the '/Users/davidlassner/Envs/wh/bin/python -m pip install --upgrade pip' command.\u001b[0m\n",
      "Requirement already satisfied: spacy in /Users/davidlassner/Envs/wh/lib/python3.8/site-packages (3.0.6)\n",
      "Requirement already satisfied: setuptools in /Users/davidlassner/Envs/wh/lib/python3.8/site-packages (from spacy) (49.6.0)\n",
      "Requirement already satisfied: numpy>=1.15.0 in /Users/davidlassner/Envs/wh/lib/python3.8/site-packages (from spacy) (1.19.1)\n",
      "Requirement already satisfied: catalogue<2.1.0,>=2.0.3 in /Users/davidlassner/Envs/wh/lib/python3.8/site-packages (from spacy) (2.0.4)\n",
      "Requirement already satisfied: pathy>=0.3.5 in /Users/davidlassner/Envs/wh/lib/python3.8/site-packages (from spacy) (0.4.0)\n",
      "Requirement already satisfied: pydantic<1.8.0,>=1.7.1 in /Users/davidlassner/Envs/wh/lib/python3.8/site-packages (from spacy) (1.7.3)\n",
      "Requirement already satisfied: spacy-legacy<3.1.0,>=3.0.4 in /Users/davidlassner/Envs/wh/lib/python3.8/site-packages (from spacy) (3.0.5)\n",
      "Requirement already satisfied: typer<0.4.0,>=0.3.0 in /Users/davidlassner/Envs/wh/lib/python3.8/site-packages (from spacy) (0.3.2)\n",
      "Requirement already satisfied: thinc<8.1.0,>=8.0.3 in /Users/davidlassner/Envs/wh/lib/python3.8/site-packages (from spacy) (8.0.3)\n",
      "Requirement already satisfied: requests<3.0.0,>=2.13.0 in /Users/davidlassner/Envs/wh/lib/python3.8/site-packages (from spacy) (2.24.0)\n",
      "Requirement already satisfied: packaging>=20.0 in /Users/davidlassner/Envs/wh/lib/python3.8/site-packages (from spacy) (20.4)\n",
      "Requirement already satisfied: murmurhash<1.1.0,>=0.28.0 in /Users/davidlassner/Envs/wh/lib/python3.8/site-packages (from spacy) (1.0.4)\n",
      "Requirement already satisfied: jinja2 in /Users/davidlassner/Envs/wh/lib/python3.8/site-packages (from spacy) (2.11.2)\n",
      "Requirement already satisfied: wasabi<1.1.0,>=0.8.1 in /Users/davidlassner/Envs/wh/lib/python3.8/site-packages (from spacy) (0.8.2)\n",
      "Requirement already satisfied: srsly<3.0.0,>=2.4.1 in /Users/davidlassner/Envs/wh/lib/python3.8/site-packages (from spacy) (2.4.1)\n",
      "Requirement already satisfied: tqdm<5.0.0,>=4.38.0 in /Users/davidlassner/Envs/wh/lib/python3.8/site-packages (from spacy) (4.48.2)\n",
      "Requirement already satisfied: preshed<3.1.0,>=3.0.2 in /Users/davidlassner/Envs/wh/lib/python3.8/site-packages (from spacy) (3.0.4)\n",
      "Requirement already satisfied: cymem<2.1.0,>=2.0.2 in /Users/davidlassner/Envs/wh/lib/python3.8/site-packages (from spacy) (2.0.4)\n",
      "Requirement already satisfied: blis<0.8.0,>=0.4.0 in /Users/davidlassner/Envs/wh/lib/python3.8/site-packages (from spacy) (0.4.1)\n",
      "Requirement already satisfied: pyparsing>=2.0.2 in /Users/davidlassner/Envs/wh/lib/python3.8/site-packages (from packaging>=20.0->spacy) (2.4.7)\n",
      "Requirement already satisfied: six in /Users/davidlassner/Envs/wh/lib/python3.8/site-packages (from packaging>=20.0->spacy) (1.15.0)\n",
      "Requirement already satisfied: smart-open<4.0.0,>=2.2.0 in /Users/davidlassner/Envs/wh/lib/python3.8/site-packages (from pathy>=0.3.5->spacy) (3.0.0)\n",
      "Requirement already satisfied: idna<3,>=2.5 in /Users/davidlassner/Envs/wh/lib/python3.8/site-packages (from requests<3.0.0,>=2.13.0->spacy) (2.10)\n",
      "Requirement already satisfied: urllib3!=1.25.0,!=1.25.1,<1.26,>=1.21.1 in /Users/davidlassner/Envs/wh/lib/python3.8/site-packages (from requests<3.0.0,>=2.13.0->spacy) (1.25.10)\n",
      "Requirement already satisfied: chardet<4,>=3.0.2 in /Users/davidlassner/Envs/wh/lib/python3.8/site-packages (from requests<3.0.0,>=2.13.0->spacy) (3.0.4)\n",
      "Requirement already satisfied: certifi>=2017.4.17 in /Users/davidlassner/Envs/wh/lib/python3.8/site-packages (from requests<3.0.0,>=2.13.0->spacy) (2020.6.20)\n",
      "Requirement already satisfied: click<7.2.0,>=7.1.1 in /Users/davidlassner/Envs/wh/lib/python3.8/site-packages (from typer<0.4.0,>=0.3.0->spacy) (7.1.2)\n",
      "Requirement already satisfied: MarkupSafe>=0.23 in /Users/davidlassner/Envs/wh/lib/python3.8/site-packages (from jinja2->spacy) (1.1.1)\n",
      "\u001b[33mWARNING: You are using pip version 21.1.3; however, version 21.2.4 is available.\n",
      "You should consider upgrading via the '/Users/davidlassner/Envs/wh/bin/python -m pip install --upgrade pip' command.\u001b[0m\n"
     ]
    }
   ],
   "source": [
    "!pip install standoffconverter\n",
    "!pip install spacy"
   ]
  },
  {
   "cell_type": "code",
   "execution_count": 2,
   "metadata": {},
   "outputs": [],
   "source": [
    "from lxml import etree\n",
    "from standoffconverter import Standoff, View\n",
    "\n",
    "input_xml = '''<TEI>\n",
    "    <teiHeader>\n",
    "    </teiHeader>\n",
    "    <text>\n",
    "        <body>\n",
    "            <p>1 2 3 4 5 6 7 9 10</p>\n",
    "            <p> 11 12 13 14 </p>\n",
    "        </body>\n",
    "    </text>\n",
    "</TEI>'''"
   ]
  },
  {
   "cell_type": "markdown",
   "metadata": {},
   "source": [
    "We will first parse it with lxml and then initialize the Converter"
   ]
  },
  {
   "cell_type": "code",
   "execution_count": 3,
   "metadata": {},
   "outputs": [],
   "source": [
    "parser = etree.XMLParser(remove_blank_text=True)\n",
    "tree = etree.fromstring(input_xml, parser=parser)\n",
    "so = Standoff(tree)"
   ]
  },
  {
   "cell_type": "markdown",
   "metadata": {},
   "source": [
    "With this converter, you have access to the different data structures, for example the \n",
    "\n",
    "* the simple standoff table `so.table`\n",
    "* the tree `so.text_el`\n",
    "* just the text ``so.plain`\n",
    "* the json of all annotations `so.json`\n",
    "* and (which I like a lot, the collapsed standoff table) `so.collapsed_table`"
   ]
  },
  {
   "cell_type": "code",
   "execution_count": 4,
   "metadata": {},
   "outputs": [
    {
     "data": {
      "text/html": [
       "<div>\n",
       "<style scoped>\n",
       "    .dataframe tbody tr th:only-of-type {\n",
       "        vertical-align: middle;\n",
       "    }\n",
       "\n",
       "    .dataframe tbody tr th {\n",
       "        vertical-align: top;\n",
       "    }\n",
       "\n",
       "    .dataframe thead th {\n",
       "        text-align: right;\n",
       "    }\n",
       "</style>\n",
       "<table border=\"1\" class=\"dataframe\">\n",
       "  <thead>\n",
       "    <tr style=\"text-align: right;\">\n",
       "      <th></th>\n",
       "      <th>position</th>\n",
       "      <th>row_type</th>\n",
       "      <th>el</th>\n",
       "      <th>depth</th>\n",
       "      <th>text</th>\n",
       "    </tr>\n",
       "  </thead>\n",
       "  <tbody>\n",
       "    <tr>\n",
       "      <th>0</th>\n",
       "      <td>0</td>\n",
       "      <td>open</td>\n",
       "      <td>[[[], []]]</td>\n",
       "      <td>0.0</td>\n",
       "      <td>None</td>\n",
       "    </tr>\n",
       "    <tr>\n",
       "      <th>1</th>\n",
       "      <td>0</td>\n",
       "      <td>open</td>\n",
       "      <td>[[], []]</td>\n",
       "      <td>1.0</td>\n",
       "      <td>None</td>\n",
       "    </tr>\n",
       "    <tr>\n",
       "      <th>2</th>\n",
       "      <td>0</td>\n",
       "      <td>open</td>\n",
       "      <td>[]</td>\n",
       "      <td>2.0</td>\n",
       "      <td>None</td>\n",
       "    </tr>\n",
       "    <tr>\n",
       "      <th>3</th>\n",
       "      <td>0</td>\n",
       "      <td>text</td>\n",
       "      <td>None</td>\n",
       "      <td>NaN</td>\n",
       "      <td>1 2 3 4 5 6 7 9 10</td>\n",
       "    </tr>\n",
       "    <tr>\n",
       "      <th>4</th>\n",
       "      <td>18</td>\n",
       "      <td>close</td>\n",
       "      <td>[]</td>\n",
       "      <td>2.0</td>\n",
       "      <td>None</td>\n",
       "    </tr>\n",
       "  </tbody>\n",
       "</table>\n",
       "</div>"
      ],
      "text/plain": [
       "   position row_type          el  depth                text\n",
       "0         0     open  [[[], []]]    0.0                None\n",
       "1         0     open    [[], []]    1.0                None\n",
       "2         0     open          []    2.0                None\n",
       "3         0     text        None    NaN  1 2 3 4 5 6 7 9 10\n",
       "4        18    close          []    2.0                None"
      ]
     },
     "execution_count": 4,
     "metadata": {},
     "output_type": "execute_result"
    }
   ],
   "source": [
    "so.table.df.head()"
   ]
  },
  {
   "cell_type": "code",
   "execution_count": 5,
   "metadata": {},
   "outputs": [
    {
     "data": {
      "text/plain": [
       "<Element text at 0x11a16ee40>"
      ]
     },
     "execution_count": 5,
     "metadata": {},
     "output_type": "execute_result"
    }
   ],
   "source": [
    "so.text_el"
   ]
  },
  {
   "cell_type": "code",
   "execution_count": 6,
   "metadata": {},
   "outputs": [
    {
     "data": {
      "text/plain": [
       "'1 2 3 4 5 6 7 9 10 11 12 13 14 '"
      ]
     },
     "execution_count": 6,
     "metadata": {},
     "output_type": "execute_result"
    }
   ],
   "source": [
    "so.plain"
   ]
  },
  {
   "cell_type": "code",
   "execution_count": 7,
   "metadata": {},
   "outputs": [
    {
     "data": {
      "text/plain": [
       "'[{\"tag\": \"text\", \"attrib\": {}, \"begin\": 0, \"end\": 31, \"depth\": 0}, {\"tag\": \"body\", \"attrib\": {}, \"begin\": 0, \"end\": 31, \"depth\": 1}, {\"tag\": \"p\", \"attrib\": {}, \"begin\": 0, \"end\": 18, \"depth\": 2}, {\"tag\": \"p\", \"attrib\": {}, \"begin\": 18, \"end\": 31, \"depth\": 2}]'"
      ]
     },
     "execution_count": 7,
     "metadata": {},
     "output_type": "execute_result"
    }
   ],
   "source": [
    "so.json"
   ]
  },
  {
   "cell_type": "code",
   "execution_count": 8,
   "metadata": {},
   "outputs": [
    {
     "data": {
      "text/html": [
       "<div>\n",
       "<style scoped>\n",
       "    .dataframe tbody tr th:only-of-type {\n",
       "        vertical-align: middle;\n",
       "    }\n",
       "\n",
       "    .dataframe tbody tr th {\n",
       "        vertical-align: top;\n",
       "    }\n",
       "\n",
       "    .dataframe thead th {\n",
       "        text-align: right;\n",
       "    }\n",
       "</style>\n",
       "<table border=\"1\" class=\"dataframe\">\n",
       "  <thead>\n",
       "    <tr style=\"text-align: right;\">\n",
       "      <th></th>\n",
       "      <th>context</th>\n",
       "      <th>text</th>\n",
       "    </tr>\n",
       "  </thead>\n",
       "  <tbody>\n",
       "    <tr>\n",
       "      <th>0</th>\n",
       "      <td>[[[&lt;Element p at 0x11a16eec0&gt;, &lt;Element p at 0...</td>\n",
       "      <td>1 2 3 4 5 6 7 9 10</td>\n",
       "    </tr>\n",
       "    <tr>\n",
       "      <th>1</th>\n",
       "      <td>[[[&lt;Element p at 0x11a16eec0&gt;, &lt;Element p at 0...</td>\n",
       "      <td>11 12 13 14</td>\n",
       "    </tr>\n",
       "  </tbody>\n",
       "</table>\n",
       "</div>"
      ],
      "text/plain": [
       "                                             context                text\n",
       "0  [[[<Element p at 0x11a16eec0>, <Element p at 0...  1 2 3 4 5 6 7 9 10\n",
       "1  [[[<Element p at 0x11a16eec0>, <Element p at 0...        11 12 13 14 "
      ]
     },
     "execution_count": 8,
     "metadata": {},
     "output_type": "execute_result"
    }
   ],
   "source": [
    "so.collapsed_table"
   ]
  },
  {
   "cell_type": "markdown",
   "metadata": {},
   "source": [
    "To illustrate how to do something with spacy and then pass the token-level information back to the standoff, we would like to annotate all numbers that are divisible by 2 with the imaginary <divisibleby2>-tag.\n",
    "In the next cell, just the plain text from the converter is tokenized with spacy and individual tokens are classified into divisible/non-divisible."
   ]
  },
  {
   "cell_type": "code",
   "execution_count": 9,
   "metadata": {},
   "outputs": [],
   "source": [
    "from spacy.tokenizer import Tokenizer\n",
    "import spacy\n",
    "\n",
    "def tokenize(str_):\n",
    "    nlp = spacy.blank('en')\n",
    "    return Tokenizer(nlp.vocab)(str_)\n",
    "\n",
    "def it_annotations(doc, labels):\n",
    "    for token, label in zip(doc, labels):\n",
    "        begin, end = token.idx, token.idx+len(token)\n",
    "        if label is not None:\n",
    "            yield begin, end, label\n",
    "\n",
    "view = View(so)\n",
    "plain = view.get_plain()\n",
    "candidates = tokenize(plain)\n",
    "labels = ['divisible_by2' if int(tok.text)%2==0 else None for tok in candidates]"
   ]
  },
  {
   "cell_type": "markdown",
   "metadata": {},
   "source": [
    "With token.idx, spacy keeps track of the character offset of the token. that way, we can get back the position of the token afterwards. Here, with `converter.add_inline` we add annotations on character level."
   ]
  },
  {
   "cell_type": "code",
   "execution_count": 10,
   "metadata": {},
   "outputs": [],
   "source": [
    "for begin, end, label in it_annotations(candidates, labels):\n",
    "\n",
    "    so.add_inline(\n",
    "        begin=view.get_table_pos(begin),\n",
    "        end=view.get_table_pos(end),\n",
    "        tag=\"divisibleby2\",\n",
    "        depth=None,\n",
    "        attrib={}\n",
    "    )"
   ]
  },
  {
   "cell_type": "code",
   "execution_count": 11,
   "metadata": {},
   "outputs": [
    {
     "data": {
      "text/html": [
       "<div>\n",
       "<style scoped>\n",
       "    .dataframe tbody tr th:only-of-type {\n",
       "        vertical-align: middle;\n",
       "    }\n",
       "\n",
       "    .dataframe tbody tr th {\n",
       "        vertical-align: top;\n",
       "    }\n",
       "\n",
       "    .dataframe thead th {\n",
       "        text-align: right;\n",
       "    }\n",
       "</style>\n",
       "<table border=\"1\" class=\"dataframe\">\n",
       "  <thead>\n",
       "    <tr style=\"text-align: right;\">\n",
       "      <th></th>\n",
       "      <th>context</th>\n",
       "      <th>text</th>\n",
       "    </tr>\n",
       "  </thead>\n",
       "  <tbody>\n",
       "    <tr>\n",
       "      <th>0</th>\n",
       "      <td>[[[&lt;Element p at 0x15a538a00&gt;, &lt;Element p at 0...</td>\n",
       "      <td>1</td>\n",
       "    </tr>\n",
       "    <tr>\n",
       "      <th>1</th>\n",
       "      <td>[[[&lt;Element p at 0x15a538a00&gt;, &lt;Element p at 0...</td>\n",
       "      <td>2</td>\n",
       "    </tr>\n",
       "    <tr>\n",
       "      <th>2</th>\n",
       "      <td>[[[&lt;Element p at 0x15a538a00&gt;, &lt;Element p at 0...</td>\n",
       "      <td>3</td>\n",
       "    </tr>\n",
       "    <tr>\n",
       "      <th>3</th>\n",
       "      <td>[[[&lt;Element p at 0x15a538a00&gt;, &lt;Element p at 0...</td>\n",
       "      <td>4</td>\n",
       "    </tr>\n",
       "    <tr>\n",
       "      <th>4</th>\n",
       "      <td>[[[&lt;Element p at 0x15a538a00&gt;, &lt;Element p at 0...</td>\n",
       "      <td>5</td>\n",
       "    </tr>\n",
       "    <tr>\n",
       "      <th>5</th>\n",
       "      <td>[[[&lt;Element p at 0x15a538a00&gt;, &lt;Element p at 0...</td>\n",
       "      <td>6</td>\n",
       "    </tr>\n",
       "    <tr>\n",
       "      <th>6</th>\n",
       "      <td>[[[&lt;Element p at 0x15a538a00&gt;, &lt;Element p at 0...</td>\n",
       "      <td>7 9</td>\n",
       "    </tr>\n",
       "    <tr>\n",
       "      <th>7</th>\n",
       "      <td>[[[&lt;Element p at 0x15a538a00&gt;, &lt;Element p at 0...</td>\n",
       "      <td>10</td>\n",
       "    </tr>\n",
       "    <tr>\n",
       "      <th>8</th>\n",
       "      <td>[[[&lt;Element p at 0x15a538a00&gt;, &lt;Element p at 0...</td>\n",
       "      <td>11</td>\n",
       "    </tr>\n",
       "    <tr>\n",
       "      <th>9</th>\n",
       "      <td>[[[&lt;Element p at 0x15a538a00&gt;, &lt;Element p at 0...</td>\n",
       "      <td>12</td>\n",
       "    </tr>\n",
       "    <tr>\n",
       "      <th>10</th>\n",
       "      <td>[[[&lt;Element p at 0x15a538a00&gt;, &lt;Element p at 0...</td>\n",
       "      <td>13</td>\n",
       "    </tr>\n",
       "    <tr>\n",
       "      <th>11</th>\n",
       "      <td>[[[&lt;Element p at 0x15a538a00&gt;, &lt;Element p at 0...</td>\n",
       "      <td>14</td>\n",
       "    </tr>\n",
       "    <tr>\n",
       "      <th>12</th>\n",
       "      <td>[[[&lt;Element p at 0x15a538a00&gt;, &lt;Element p at 0...</td>\n",
       "      <td></td>\n",
       "    </tr>\n",
       "  </tbody>\n",
       "</table>\n",
       "</div>"
      ],
      "text/plain": [
       "                                              context   text\n",
       "0   [[[<Element p at 0x15a538a00>, <Element p at 0...     1 \n",
       "1   [[[<Element p at 0x15a538a00>, <Element p at 0...      2\n",
       "2   [[[<Element p at 0x15a538a00>, <Element p at 0...     3 \n",
       "3   [[[<Element p at 0x15a538a00>, <Element p at 0...      4\n",
       "4   [[[<Element p at 0x15a538a00>, <Element p at 0...     5 \n",
       "5   [[[<Element p at 0x15a538a00>, <Element p at 0...      6\n",
       "6   [[[<Element p at 0x15a538a00>, <Element p at 0...   7 9 \n",
       "7   [[[<Element p at 0x15a538a00>, <Element p at 0...     10\n",
       "8   [[[<Element p at 0x15a538a00>, <Element p at 0...    11 \n",
       "9   [[[<Element p at 0x15a538a00>, <Element p at 0...     12\n",
       "10  [[[<Element p at 0x15a538a00>, <Element p at 0...    13 \n",
       "11  [[[<Element p at 0x15a538a00>, <Element p at 0...     14\n",
       "12  [[[<Element p at 0x15a538a00>, <Element p at 0...       "
      ]
     },
     "execution_count": 11,
     "metadata": {},
     "output_type": "execute_result"
    }
   ],
   "source": [
    "so.collapsed_table"
   ]
  },
  {
   "cell_type": "code",
   "execution_count": 12,
   "metadata": {},
   "outputs": [
    {
     "data": {
      "text/plain": [
       "'<text><body><p>1 <divisibleby2>2</divisibleby2> 3 <divisibleby2>4</divisibleby2> 5 <divisibleby2>6</divisibleby2> 7 9 <divisibleby2>10</divisibleby2></p><p> 11 <divisibleby2>12</divisibleby2> 13 <divisibleby2>14</divisibleby2> </p></body></text>'"
      ]
     },
     "execution_count": 12,
     "metadata": {},
     "output_type": "execute_result"
    }
   ],
   "source": [
    "etree.tostring(so.text_el).decode(\"utf-8\")"
   ]
  }
 ],
 "metadata": {
  "kernelspec": {
   "display_name": "wh",
   "language": "python",
   "name": "wh"
  },
  "language_info": {
   "codemirror_mode": {
    "name": "ipython",
    "version": 3
   },
   "file_extension": ".py",
   "mimetype": "text/x-python",
   "name": "python",
   "nbconvert_exporter": "python",
   "pygments_lexer": "ipython3",
   "version": "3.8.12"
  }
 },
 "nbformat": 4,
 "nbformat_minor": 4
}
